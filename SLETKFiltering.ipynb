{
 "cells": [
  {
   "cell_type": "markdown",
   "metadata": {},
   "source": [
    "## Serial LETK Filtering\n"
   ]
  },
  {
   "cell_type": "code",
   "execution_count": null,
   "metadata": {},
   "outputs": [],
   "source": [
    "import Simulator\n",
    "import Observation\n",
    "import Statistics\n",
    "import SLETKalmanFilter"
   ]
  },
  {
   "cell_type": "markdown",
   "metadata": {},
   "source": [
    "## Loading simulator \n",
    "\n",
    "For Kalman filtering we have to be able to propagate a Gaussian distribution in time and to have access to the linear operators"
   ]
  },
  {
   "cell_type": "code",
   "execution_count": null,
   "metadata": {},
   "outputs": [],
   "source": [
    "timestamp = \"2022_03_02-12_44_46\"\n",
    "\n",
    "grid, simulator = Simulator.from_file(timestamp)"
   ]
  },
  {
   "cell_type": "markdown",
   "metadata": {},
   "source": [
    "## Definition of initial distribution \n",
    "\n",
    "The inital state is equipped with a Gaussian distribution specified by its mean and covariance. "
   ]
  },
  {
   "cell_type": "code",
   "execution_count": null,
   "metadata": {},
   "outputs": [],
   "source": [
    "statistics = Statistics.Statistics(simulator, N_e=50, safe_history=True)"
   ]
  },
  {
   "cell_type": "code",
   "execution_count": null,
   "metadata": {},
   "outputs": [],
   "source": [
    "prior_args = Statistics.prior_args_from_file(timestamp)\n",
    "statistics.set_prior(prior_args)\n",
    "\n",
    "statistics.plot()"
   ]
  },
  {
   "cell_type": "markdown",
   "metadata": {},
   "source": [
    "## Loading observations \n",
    "\n",
    "Observation positions which are fixed for a setup and values from the truth"
   ]
  },
  {
   "cell_type": "code",
   "execution_count": null,
   "metadata": {},
   "outputs": [],
   "source": [
    "obs_timestamp = \"2022_03_02-12_44_53\"\n",
    "observation = Observation.from_file(grid, timestamp, obs_timestamp)"
   ]
  },
  {
   "cell_type": "code",
   "execution_count": null,
   "metadata": {},
   "outputs": [],
   "source": [
    "observation.plot_positions()"
   ]
  },
  {
   "cell_type": "markdown",
   "metadata": {},
   "source": [
    "## LETKF filtering\n",
    "\n",
    "Updating/conditioning the distributions at every observation time"
   ]
  },
  {
   "cell_type": "code",
   "execution_count": null,
   "metadata": {},
   "outputs": [],
   "source": [
    "# We choose the scale_r as about 2/3 of the correlation length in grid cells \n",
    "scale_r = 6"
   ]
  },
  {
   "cell_type": "code",
   "execution_count": null,
   "metadata": {},
   "outputs": [],
   "source": [
    "sletkFilter = SLETKalmanFilter.SLETKalman(statistics, observation, scale_r)"
   ]
  },
  {
   "cell_type": "code",
   "execution_count": null,
   "metadata": {},
   "outputs": [],
   "source": [
    "sletkFilter.groups"
   ]
  },
  {
   "cell_type": "code",
   "execution_count": null,
   "metadata": {},
   "outputs": [],
   "source": [
    "from matplotlib import pyplot as plt\n",
    "plt.imshow(sletkFilter.W_loc, origin=\"lower\", vmin=0.0, vmax=1.0)\n",
    "plt.colorbar()\n",
    "plt.show()\n",
    "for g in range(len(sletkFilter.groups)):\n",
    "    plt.imshow(sletkFilter.W_analyses[g], origin=\"lower\", vmin=0.0, vmax=1.0)\n",
    "    plt.colorbar()\n",
    "    plt.show()"
   ]
  },
  {
   "cell_type": "code",
   "execution_count": null,
   "metadata": {},
   "outputs": [],
   "source": [
    "for t in range(observation.N_obs):\n",
    "    print(t)\n",
    "    statistics.propagate(25)\n",
    "    sletkFilter.filter(statistics.ensemble.ensemble, observation.obses[t])\n",
    "    statistics.plot()"
   ]
  },
  {
   "cell_type": "code",
   "execution_count": null,
   "metadata": {},
   "outputs": [],
   "source": []
  }
 ],
 "metadata": {
  "interpreter": {
   "hash": "f76bea9b00210d8b9373d3ead85203e5abc5c792bcd5058fe1476c8822b21ae7"
  },
  "kernelspec": {
   "display_name": "Python 3.8.11 64-bit ('opendrift': conda)",
   "name": "python3"
  },
  "language_info": {
   "codemirror_mode": {
    "name": "ipython",
    "version": 3
   },
   "file_extension": ".py",
   "mimetype": "text/x-python",
   "name": "python",
   "nbconvert_exporter": "python",
   "pygments_lexer": "ipython3",
   "version": "3.8.12"
  },
  "orig_nbformat": 4
 },
 "nbformat": 4,
 "nbformat_minor": 2
}
