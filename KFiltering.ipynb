{
 "metadata": {
  "language_info": {
   "codemirror_mode": {
    "name": "ipython",
    "version": 3
   },
   "file_extension": ".py",
   "mimetype": "text/x-python",
   "name": "python",
   "nbconvert_exporter": "python",
   "pygments_lexer": "ipython3",
   "version": "3.9.2"
  },
  "orig_nbformat": 4,
  "kernelspec": {
   "name": "python3",
   "display_name": "Python 3.9.2 64-bit ('opendrift': conda)"
  },
  "interpreter": {
   "hash": "391e662734e275c95864cbc40c69175bfa057a070476f3d624960984d12b01d6"
  }
 },
 "nbformat": 4,
 "nbformat_minor": 2,
 "cells": [
  {
   "cell_type": "markdown",
   "source": [
    "## Kalman Filtering\n"
   ],
   "metadata": {}
  },
  {
   "cell_type": "code",
   "execution_count": 1,
   "source": [
    "import Simulator\r\n",
    "import Observation\r\n",
    "import Statistics\r\n",
    "import KalmanFilter"
   ],
   "outputs": [],
   "metadata": {}
  },
  {
   "cell_type": "markdown",
   "source": [
    "### Definition of forward model\n",
    "\n",
    "For Kalman filtering we have to be able to propagate a Gaussian distribution in time and to have access to the linear operators\n",
    "\n"
   ],
   "metadata": {}
  },
  {
   "cell_type": "code",
   "execution_count": 2,
   "source": [
    "grid = Simulator.Grid(nx=50,ny=30,dx=0.1,dy=0.1)\r\n",
    "simulator = Simulator.Simulator(grid, D=0.25, v=[1,0])"
   ],
   "outputs": [],
   "metadata": {}
  },
  {
   "cell_type": "markdown",
   "source": [
    "### Definition of initial distribution \n",
    "\n",
    "The inital state is equipped with a Gaussian distribution specified by its mean and covariance. "
   ],
   "metadata": {}
  },
  {
   "cell_type": "code",
   "execution_count": 3,
   "source": [
    "import numpy as np\r\n",
    "\r\n",
    "def prior(grid, phi):\r\n",
    "    \"\"\"\r\n",
    "    Constructing a Matern-type covariance prior with Matern-parameter phi\r\n",
    "    where the matrix is normalized with the standard deviation\r\n",
    "    \"\"\"\r\n",
    "    # INPUT! Bell mean\r\n",
    "    mean = 0.0*np.ones(grid.N_x)\r\n",
    "    # INPUT! Constant var\r\n",
    "    var  = 1.0*np.ones(grid.N_x)\r\n",
    "\r\n",
    "    # Matern covariance\r\n",
    "    dist_mat = np.copy(grid.dist_mat)\r\n",
    "    cov = (1+phi*dist_mat)*np.exp(-phi*dist_mat)\r\n",
    "    \r\n",
    "    # Normalisation\r\n",
    "    var_mesh = np.meshgrid(np.sqrt(var),np.sqrt(var))[0]*np.meshgrid(np.sqrt(var),np.sqrt(var))[1]    \r\n",
    "\r\n",
    "    return mean, var_mesh, cov"
   ],
   "outputs": [],
   "metadata": {}
  },
  {
   "cell_type": "code",
   "execution_count": 4,
   "source": [
    "statistics = Statistics.Statistics(simulator)\r\n",
    "mean, var_mesh, cov = prior(grid=grid, phi=2.0)\r\n",
    "statistics.set(mean, var_mesh*cov)\r\n",
    "statistics.plot()"
   ],
   "outputs": [
    {
     "output_type": "stream",
     "name": "stdout",
     "text": [
      "Please remember to set priors!\n"
     ]
    },
    {
     "output_type": "display_data",
     "data": {
      "text/plain": [
       "<Figure size 864x288 with 6 Axes>"
      ],
      "image/png": "[encoded data removed]"
     },
     "metadata": {
      "needs_background": "light"
     }
    }
   ],
   "metadata": {}
  },
  {
   "cell_type": "markdown",
   "source": [
    "### Setting observation moorings"
   ],
   "metadata": {}
  },
  {
   "cell_type": "code",
   "execution_count": 5,
   "source": [
    "import numpy as np\r\n",
    "\r\n",
    "def observation_positions(grid, freq=10):\r\n",
    "    poses = []\r\n",
    "    for j in range(int(np.floor(grid.ny/freq))):\r\n",
    "        for i in range(int(np.floor(grid.nx/freq))):\r\n",
    "            poses.append([i*freq,j*freq])\r\n",
    "    return poses\r\n"
   ],
   "outputs": [],
   "metadata": {}
  },
  {
   "cell_type": "code",
   "execution_count": 6,
   "source": [
    "observation = Observation.Observation(simulator)\r\n"
   ],
   "outputs": [
    {
     "output_type": "stream",
     "name": "stdout",
     "text": [
      "Remember to set observation positions and to set values!\n"
     ]
    }
   ],
   "metadata": {}
  },
  {
   "cell_type": "code",
   "execution_count": 7,
   "source": [
    "poses = observation_positions(grid, freq=10)\r\n",
    "observation.set_positions(poses)"
   ],
   "outputs": [],
   "metadata": {}
  },
  {
   "cell_type": "code",
   "execution_count": 8,
   "source": [
    "observation.load_observations(\"observations.txt\")"
   ],
   "outputs": [],
   "metadata": {}
  },
  {
   "cell_type": "markdown",
   "source": [
    "### Temporal evolution of model"
   ],
   "metadata": {}
  },
  {
   "cell_type": "code",
   "execution_count": 9,
   "source": [
    "kalmanFilter = KalmanFilter.Kalman(statistics, observation)\r\n",
    "\r\n",
    "for t in range(observation.N_obs):\r\n",
    "    print(t)\r\n",
    "    statistics.propagate(25)\r\n",
    "    kalmanFilter.filter(statistics.mean, statistics.cov, observation.obses[t])\r\n",
    "    statistics.plot()"
   ],
   "outputs": [
    {
     "output_type": "error",
     "ename": "AttributeError",
     "evalue": "module 'KalmanFilter' has no attribute 'Kalman'",
     "traceback": [
      "\u001b[1;31m---------------------------------------------------------------------------\u001b[0m",
      "\u001b[1;31mAttributeError\u001b[0m                            Traceback (most recent call last)",
      "\u001b[1;32m<ipython-input-9-dc4735324d0e>\u001b[0m in \u001b[0;36m<module>\u001b[1;34m\u001b[0m\n\u001b[1;32m----> 1\u001b[1;33m \u001b[0mkalmanFilter\u001b[0m \u001b[1;33m=\u001b[0m \u001b[0mKalmanFilter\u001b[0m\u001b[1;33m.\u001b[0m\u001b[0mKalman\u001b[0m\u001b[1;33m(\u001b[0m\u001b[0mstatistics\u001b[0m\u001b[1;33m,\u001b[0m \u001b[0mobservation\u001b[0m\u001b[1;33m)\u001b[0m\u001b[1;33m\u001b[0m\u001b[1;33m\u001b[0m\u001b[0m\n\u001b[0m\u001b[0;32m      2\u001b[0m \u001b[1;33m\u001b[0m\u001b[0m\n\u001b[0;32m      3\u001b[0m \u001b[1;32mfor\u001b[0m \u001b[0mt\u001b[0m \u001b[1;32min\u001b[0m \u001b[0mrange\u001b[0m\u001b[1;33m(\u001b[0m\u001b[0mobservation\u001b[0m\u001b[1;33m.\u001b[0m\u001b[0mN_obs\u001b[0m\u001b[1;33m)\u001b[0m\u001b[1;33m:\u001b[0m\u001b[1;33m\u001b[0m\u001b[1;33m\u001b[0m\u001b[0m\n\u001b[0;32m      4\u001b[0m     \u001b[0mprint\u001b[0m\u001b[1;33m(\u001b[0m\u001b[0mt\u001b[0m\u001b[1;33m)\u001b[0m\u001b[1;33m\u001b[0m\u001b[1;33m\u001b[0m\u001b[0m\n\u001b[0;32m      5\u001b[0m     \u001b[0mstatistics\u001b[0m\u001b[1;33m.\u001b[0m\u001b[0mpropagate\u001b[0m\u001b[1;33m(\u001b[0m\u001b[1;36m25\u001b[0m\u001b[1;33m)\u001b[0m\u001b[1;33m\u001b[0m\u001b[1;33m\u001b[0m\u001b[0m\n",
      "\u001b[1;31mAttributeError\u001b[0m: module 'KalmanFilter' has no attribute 'Kalman'"
     ]
    }
   ],
   "metadata": {}
  }
 ]
}