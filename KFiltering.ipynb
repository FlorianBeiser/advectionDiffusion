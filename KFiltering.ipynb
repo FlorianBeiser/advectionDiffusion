{
 "metadata": {
  "language_info": {
   "codemirror_mode": {
    "name": "ipython",
    "version": 3
   },
   "file_extension": ".py",
   "mimetype": "text/x-python",
   "name": "python",
   "nbconvert_exporter": "python",
   "pygments_lexer": "ipython3",
   "version": "3.9.2"
  },
  "orig_nbformat": 4,
  "kernelspec": {
   "name": "python3",
   "display_name": "Python 3.9.2 64-bit ('opendrift': conda)"
  },
  "interpreter": {
   "hash": "391e662734e275c95864cbc40c69175bfa057a070476f3d624960984d12b01d6"
  }
 },
 "nbformat": 4,
 "nbformat_minor": 2,
 "cells": [
  {
   "cell_type": "markdown",
   "source": [
    "# Kalman Filtering"
   ],
   "metadata": {}
  },
  {
   "cell_type": "code",
   "execution_count": 1,
   "source": [
    "import Simulator\r\n",
    "import Observation\r\n",
    "import Statistics\r\n",
    "import KalmanFilter"
   ],
   "outputs": [],
   "metadata": {}
  },
  {
   "cell_type": "markdown",
   "source": [
    "## Loading simulator \r\n",
    "\r\n",
    "For Kalman filtering we have to be able to propagate a Gaussian distribution in time and to have access to the linear operators"
   ],
   "metadata": {}
  },
  {
   "cell_type": "code",
   "execution_count": 2,
   "source": [
    "timestamp = \"2021_08_10-09_34_31\"\r\n",
    "\r\n",
    "grid, simulator = Simulator.from_file(timestamp)"
   ],
   "outputs": [],
   "metadata": {}
  },
  {
   "cell_type": "markdown",
   "source": [
    "## Definition of initial distribution \r\n",
    "\r\n",
    "The inital state is equipped with a Gaussian distribution specified by its mean and covariance. "
   ],
   "metadata": {}
  },
  {
   "cell_type": "code",
   "execution_count": 3,
   "source": [
    "statistics = Statistics.Statistics(simulator)"
   ],
   "outputs": [
    {
     "output_type": "stream",
     "name": "stdout",
     "text": [
      "Please remember to set priors!\n"
     ]
    }
   ],
   "metadata": {}
  },
  {
   "cell_type": "code",
   "execution_count": 4,
   "source": [
    "prior_args = Statistics.prior_args_from_file(timestamp)\r\n",
    "statistics.set_prior(prior_args)\r\n",
    "\r\n",
    "statistics.plot()"
   ],
   "outputs": [],
   "metadata": {}
  },
  {
   "cell_type": "markdown",
   "source": [
    "## Loading observations \r\n",
    "\r\n",
    "Observation positions which are fixed for a setup and values from the truth"
   ],
   "metadata": {}
  },
  {
   "cell_type": "code",
   "execution_count": null,
   "source": [
    "obs_timestamp = \"2021_08_10-09_34_39\"\r\n",
    "observation = Observation.from_file(grid, timestamp, obs_timestamp)"
   ],
   "outputs": [],
   "metadata": {}
  },
  {
   "cell_type": "markdown",
   "source": [
    "## Kalman filtering\r\n",
    "\r\n",
    "Updating/conditioning the distributions at every observation time"
   ],
   "metadata": {}
  },
  {
   "cell_type": "code",
   "execution_count": null,
   "source": [
    "kalmanFilter = KalmanFilter.Kalman(statistics, observation)\r\n",
    "\r\n",
    "for t in range(observation.N_obs):\r\n",
    "    print(t)\r\n",
    "    statistics.propagate(25)\r\n",
    "    kalmanFilter.filter(statistics.mean, statistics.cov, observation.obses[t])\r\n",
    "    statistics.plot()"
   ],
   "outputs": [],
   "metadata": {}
  }
 ]
}