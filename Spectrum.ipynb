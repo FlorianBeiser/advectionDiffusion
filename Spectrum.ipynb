{
 "cells": [
  {
   "attachments": {},
   "cell_type": "markdown",
   "metadata": {},
   "source": [
    "# Spectral Analysis"
   ]
  },
  {
   "cell_type": "code",
   "execution_count": 21,
   "metadata": {},
   "outputs": [],
   "source": [
    "import Simulator\n",
    "import Observation\n",
    "import Statistics\n",
    "import KalmanFilter"
   ]
  },
  {
   "attachments": {},
   "cell_type": "markdown",
   "metadata": {},
   "source": [
    "## Loading simulator \n",
    "\n",
    "For Kalman filtering we have to be able to propagate a Gaussian distribution in time and to have access to the linear operators"
   ]
  },
  {
   "cell_type": "code",
   "execution_count": 22,
   "metadata": {},
   "outputs": [],
   "source": [
    "timestamp = \"2022_03_02-12_44_46\"\n",
    "\n",
    "grid, simulator = Simulator.from_file(timestamp)"
   ]
  },
  {
   "attachments": {},
   "cell_type": "markdown",
   "metadata": {},
   "source": [
    "## Definition of initial distribution \n",
    "\n",
    "The inital state is equipped with a Gaussian distribution specified by its mean and covariance. "
   ]
  },
  {
   "cell_type": "code",
   "execution_count": 23,
   "metadata": {},
   "outputs": [
    {
     "name": "stdout",
     "output_type": "stream",
     "text": [
      "Please remember to set priors!\n"
     ]
    }
   ],
   "source": [
    "statistics = Statistics.Statistics(simulator, safe_history=True)\n",
    "prior_args = Statistics.prior_args_from_file(timestamp)\n",
    "statistics.set_prior(prior_args)"
   ]
  },
  {
   "cell_type": "code",
   "execution_count": 24,
   "metadata": {},
   "outputs": [
    {
     "name": "stdout",
     "output_type": "stream",
     "text": [
      "Remember to set observation positions and to set/observe values!\n"
     ]
    }
   ],
   "source": [
    "obs_timestamp = \"2022_03_02-12_44_53\"\n",
    "observation = Observation.from_file(grid, timestamp, obs_timestamp)"
   ]
  },
  {
   "attachments": {},
   "cell_type": "markdown",
   "metadata": {},
   "source": [
    "### KF in time"
   ]
  },
  {
   "cell_type": "code",
   "execution_count": 25,
   "metadata": {},
   "outputs": [],
   "source": [
    "# Plots for the paper\n",
    "import numpy as np\n",
    "kf_prior_means = np.zeros((11,grid.N_x))\n",
    "kf_prior_covs = np.zeros((11,grid.N_x,grid.N_x))\n",
    "\n",
    "kf_posterior_means = np.zeros((11,grid.N_x))\n",
    "kf_posterior_covs = np.zeros((11,grid.N_x,grid.N_x))"
   ]
  },
  {
   "cell_type": "code",
   "execution_count": 26,
   "metadata": {},
   "outputs": [
    {
     "name": "stdout",
     "output_type": "stream",
     "text": [
      "0\n",
      "1\n",
      "2\n",
      "3\n",
      "4\n",
      "5\n",
      "6\n",
      "7\n",
      "8\n",
      "9\n"
     ]
    }
   ],
   "source": [
    "kf_prior_means[0] = statistics.mean\n",
    "kf_prior_covs[0]  = statistics.cov\n",
    "\n",
    "kalmanFilter = KalmanFilter.Kalman(statistics, observation)\n",
    "\n",
    "kf_posterior_means[0] = statistics.mean\n",
    "kf_posterior_covs[0]  = statistics.cov\n",
    "\n",
    "for t in range(observation.N_obs):\n",
    "    print(t)\n",
    "    statistics.propagate(25)\n",
    "\n",
    "    kf_prior_means[t+1] = statistics.mean\n",
    "    kf_prior_covs[t+1]  = statistics.cov\n",
    "\n",
    "    kalmanFilter.filter(statistics.mean, statistics.cov, observation.obses[t])\n",
    "\n",
    "    kf_posterior_means[t+1] = statistics.mean\n",
    "    kf_posterior_covs[t+1]  = statistics.cov"
   ]
  },
  {
   "cell_type": "code",
   "execution_count": 27,
   "metadata": {},
   "outputs": [
    {
     "name": "stderr",
     "output_type": "stream",
     "text": [
      "/home/florianb/miniconda3/envs/advecdiff/lib/python3.8/site-packages/matplotlib/cbook/__init__.py:1298: ComplexWarning: Casting complex values to real discards the imaginary part\n",
      "  return np.asarray(x, float)\n",
      "/home/florianb/miniconda3/envs/advecdiff/lib/python3.8/site-packages/matplotlib/cbook/__init__.py:1298: ComplexWarning: Casting complex values to real discards the imaginary part\n",
      "  return np.asarray(x, float)\n",
      "/home/florianb/miniconda3/envs/advecdiff/lib/python3.8/site-packages/matplotlib/cbook/__init__.py:1298: ComplexWarning: Casting complex values to real discards the imaginary part\n",
      "  return np.asarray(x, float)\n",
      "/home/florianb/miniconda3/envs/advecdiff/lib/python3.8/site-packages/matplotlib/cbook/__init__.py:1298: ComplexWarning: Casting complex values to real discards the imaginary part\n",
      "  return np.asarray(x, float)\n",
      "/home/florianb/miniconda3/envs/advecdiff/lib/python3.8/site-packages/matplotlib/cbook/__init__.py:1298: ComplexWarning: Casting complex values to real discards the imaginary part\n",
      "  return np.asarray(x, float)\n",
      "/home/florianb/miniconda3/envs/advecdiff/lib/python3.8/site-packages/matplotlib/cbook/__init__.py:1298: ComplexWarning: Casting complex values to real discards the imaginary part\n",
      "  return np.asarray(x, float)\n",
      "/home/florianb/miniconda3/envs/advecdiff/lib/python3.8/site-packages/matplotlib/cbook/__init__.py:1298: ComplexWarning: Casting complex values to real discards the imaginary part\n",
      "  return np.asarray(x, float)\n",
      "/home/florianb/miniconda3/envs/advecdiff/lib/python3.8/site-packages/matplotlib/cbook/__init__.py:1298: ComplexWarning: Casting complex values to real discards the imaginary part\n",
      "  return np.asarray(x, float)\n",
      "/home/florianb/miniconda3/envs/advecdiff/lib/python3.8/site-packages/matplotlib/cbook/__init__.py:1298: ComplexWarning: Casting complex values to real discards the imaginary part\n",
      "  return np.asarray(x, float)\n",
      "/home/florianb/miniconda3/envs/advecdiff/lib/python3.8/site-packages/matplotlib/cbook/__init__.py:1298: ComplexWarning: Casting complex values to real discards the imaginary part\n",
      "  return np.asarray(x, float)\n",
      "/home/florianb/miniconda3/envs/advecdiff/lib/python3.8/site-packages/matplotlib/cbook/__init__.py:1298: ComplexWarning: Casting complex values to real discards the imaginary part\n",
      "  return np.asarray(x, float)\n",
      "/home/florianb/miniconda3/envs/advecdiff/lib/python3.8/site-packages/matplotlib/cbook/__init__.py:1298: ComplexWarning: Casting complex values to real discards the imaginary part\n",
      "  return np.asarray(x, float)\n",
      "/home/florianb/miniconda3/envs/advecdiff/lib/python3.8/site-packages/matplotlib/cbook/__init__.py:1298: ComplexWarning: Casting complex values to real discards the imaginary part\n",
      "  return np.asarray(x, float)\n",
      "/home/florianb/miniconda3/envs/advecdiff/lib/python3.8/site-packages/matplotlib/cbook/__init__.py:1298: ComplexWarning: Casting complex values to real discards the imaginary part\n",
      "  return np.asarray(x, float)\n",
      "/home/florianb/miniconda3/envs/advecdiff/lib/python3.8/site-packages/matplotlib/cbook/__init__.py:1298: ComplexWarning: Casting complex values to real discards the imaginary part\n",
      "  return np.asarray(x, float)\n",
      "/home/florianb/miniconda3/envs/advecdiff/lib/python3.8/site-packages/matplotlib/cbook/__init__.py:1298: ComplexWarning: Casting complex values to real discards the imaginary part\n",
      "  return np.asarray(x, float)\n",
      "/home/florianb/miniconda3/envs/advecdiff/lib/python3.8/site-packages/matplotlib/cbook/__init__.py:1298: ComplexWarning: Casting complex values to real discards the imaginary part\n",
      "  return np.asarray(x, float)\n",
      "/home/florianb/miniconda3/envs/advecdiff/lib/python3.8/site-packages/matplotlib/cbook/__init__.py:1298: ComplexWarning: Casting complex values to real discards the imaginary part\n",
      "  return np.asarray(x, float)\n",
      "/home/florianb/miniconda3/envs/advecdiff/lib/python3.8/site-packages/matplotlib/cbook/__init__.py:1298: ComplexWarning: Casting complex values to real discards the imaginary part\n",
      "  return np.asarray(x, float)\n",
      "/home/florianb/miniconda3/envs/advecdiff/lib/python3.8/site-packages/matplotlib/cbook/__init__.py:1298: ComplexWarning: Casting complex values to real discards the imaginary part\n",
      "  return np.asarray(x, float)\n",
      "/home/florianb/miniconda3/envs/advecdiff/lib/python3.8/site-packages/matplotlib/cbook/__init__.py:1298: ComplexWarning: Casting complex values to real discards the imaginary part\n",
      "  return np.asarray(x, float)\n",
      "/home/florianb/miniconda3/envs/advecdiff/lib/python3.8/site-packages/matplotlib/cbook/__init__.py:1298: ComplexWarning: Casting complex values to real discards the imaginary part\n",
      "  return np.asarray(x, float)\n"
     ]
    },
    {
     "data": {
      "image/png": "[encoded data removed]",
      "text/plain": [
       "<Figure size 1800x216 with 11 Axes>"
      ]
     },
     "metadata": {
      "needs_background": "light"
     },
     "output_type": "display_data"
    }
   ],
   "source": [
    "from matplotlib import pyplot as plt\n",
    "\n",
    "fig, axs = plt.subplots(1, 11, figsize=(25,3))\n",
    "for t in range(11):\n",
    "    prior_w = np.sort(np.linalg.eig(kf_prior_covs[t])[0])\n",
    "    posterior_w = np.sort(np.linalg.eig(kf_posterior_covs[t])[0])\n",
    "    axs[t].plot(prior_w, prior_w, \".\")\n",
    "    axs[t].plot(prior_w, posterior_w, \".\")\n",
    "    axs[t].set_title(\"DA step \" + str(t))"
   ]
  },
  {
   "attachments": {},
   "cell_type": "markdown",
   "metadata": {},
   "source": [
    "### First Ensemble Step\n",
    "\n",
    "All sharing same prior"
   ]
  },
  {
   "cell_type": "code",
   "execution_count": 28,
   "metadata": {},
   "outputs": [],
   "source": [
    "N_e = 50"
   ]
  },
  {
   "cell_type": "code",
   "execution_count": 29,
   "metadata": {},
   "outputs": [],
   "source": [
    "ensemble_statistics = Statistics.Statistics(simulator, N_e, safe_history=True)\n",
    "prior_args = Statistics.prior_args_from_file(timestamp)\n",
    "ensemble_statistics.set_prior(prior_args)\n"
   ]
  },
  {
   "cell_type": "code",
   "execution_count": 30,
   "metadata": {},
   "outputs": [
    {
     "name": "stdout",
     "output_type": "stream",
     "text": [
      "Model error in historical forecast added\n"
     ]
    }
   ],
   "source": [
    "ensemble_statistics.propagate(25, model_error=False)"
   ]
  },
  {
   "cell_type": "code",
   "execution_count": 31,
   "metadata": {},
   "outputs": [],
   "source": [
    "import copy\n",
    "unpert_prior_ensemble = copy.deepcopy(ensemble_statistics.ensemble.ensemble)\n",
    "pert_prior_ensemble = unpert_prior_ensemble + ensemble_statistics.simulator.noise_sampler.sample(N_e)"
   ]
  },
  {
   "cell_type": "code",
   "execution_count": 32,
   "metadata": {},
   "outputs": [],
   "source": [
    "import ETKalmanFilter\n",
    "etkFilter = ETKalmanFilter.ETKalman(ensemble_statistics, observation)\n",
    "posterior_etkf = etkFilter.filter(pert_prior_ensemble, observation.obses[0])"
   ]
  },
  {
   "cell_type": "code",
   "execution_count": 33,
   "metadata": {},
   "outputs": [],
   "source": [
    "import SLETKalmanFilter\n",
    "sletkFilter = SLETKalmanFilter.SLETKalman(ensemble_statistics, observation, 6)\n",
    "posterior_letkf = sletkFilter.filter(pert_prior_ensemble, observation.obses[0])"
   ]
  },
  {
   "cell_type": "code",
   "execution_count": 34,
   "metadata": {},
   "outputs": [],
   "source": [
    "import IEWParticleFilter\n",
    "iewpFilter = IEWParticleFilter.IEWParticle(ensemble_statistics, observation, beta=0.55)\n",
    "posterior_iewpf = iewpFilter.filter(unpert_prior_ensemble, observation.obses[0])"
   ]
  },
  {
   "cell_type": "code",
   "execution_count": 35,
   "metadata": {},
   "outputs": [],
   "source": [
    "def estimateCov(states):\n",
    "    return 1/(states.shape[-1]-1)*(states - np.average(states, axis=-1)[:,np.newaxis]) @ ((states - np.average(states,axis=-1)[:,np.newaxis]).T)"
   ]
  },
  {
   "cell_type": "code",
   "execution_count": 36,
   "metadata": {},
   "outputs": [
    {
     "name": "stderr",
     "output_type": "stream",
     "text": [
      "/home/florianb/miniconda3/envs/advecdiff/lib/python3.8/site-packages/matplotlib/cbook/__init__.py:1298: ComplexWarning: Casting complex values to real discards the imaginary part\n",
      "  return np.asarray(x, float)\n",
      "/home/florianb/miniconda3/envs/advecdiff/lib/python3.8/site-packages/matplotlib/cbook/__init__.py:1298: ComplexWarning: Casting complex values to real discards the imaginary part\n",
      "  return np.asarray(x, float)\n",
      "/home/florianb/miniconda3/envs/advecdiff/lib/python3.8/site-packages/matplotlib/cbook/__init__.py:1298: ComplexWarning: Casting complex values to real discards the imaginary part\n",
      "  return np.asarray(x, float)\n",
      "/home/florianb/miniconda3/envs/advecdiff/lib/python3.8/site-packages/matplotlib/cbook/__init__.py:1298: ComplexWarning: Casting complex values to real discards the imaginary part\n",
      "  return np.asarray(x, float)\n",
      "/home/florianb/miniconda3/envs/advecdiff/lib/python3.8/site-packages/matplotlib/cbook/__init__.py:1298: ComplexWarning: Casting complex values to real discards the imaginary part\n",
      "  return np.asarray(x, float)\n",
      "/home/florianb/miniconda3/envs/advecdiff/lib/python3.8/site-packages/matplotlib/cbook/__init__.py:1298: ComplexWarning: Casting complex values to real discards the imaginary part\n",
      "  return np.asarray(x, float)\n",
      "/home/florianb/miniconda3/envs/advecdiff/lib/python3.8/site-packages/matplotlib/cbook/__init__.py:1298: ComplexWarning: Casting complex values to real discards the imaginary part\n",
      "  return np.asarray(x, float)\n",
      "/home/florianb/miniconda3/envs/advecdiff/lib/python3.8/site-packages/matplotlib/cbook/__init__.py:1298: ComplexWarning: Casting complex values to real discards the imaginary part\n",
      "  return np.asarray(x, float)\n"
     ]
    },
    {
     "data": {
      "image/png": "[encoded data removed]",
      "text/plain": [
       "<Figure size 1080x216 with 4 Axes>"
      ]
     },
     "metadata": {
      "needs_background": "light"
     },
     "output_type": "display_data"
    }
   ],
   "source": [
    "fig, axs = plt.subplots(1, 4, figsize=(15,3))\n",
    "\n",
    "kf_prior_w = np.sort(np.linalg.eig(kf_prior_covs[1])[0])\n",
    "kf_posterior_w = np.sort(np.linalg.eig(kf_posterior_covs[1])[0])\n",
    "axs[0].plot(kf_prior_w, kf_prior_w, \".\")\n",
    "axs[0].plot(kf_prior_w, kf_posterior_w, \".\")\n",
    "axs[0].set_title(\"KF\")\n",
    "\n",
    "ensemble_prior_w = np.sort(np.linalg.eig(estimateCov(pert_prior_ensemble))[0])\n",
    "etkf_posterior_w = np.sort(np.linalg.eig(estimateCov(posterior_etkf))[0])\n",
    "letkf_posterior_w = np.sort(np.linalg.eig(estimateCov(posterior_letkf))[0])\n",
    "iewpf_posterior_w = np.sort(np.linalg.eig(estimateCov(posterior_iewpf))[0])\n",
    "axs[1].plot(ensemble_prior_w, ensemble_prior_w, \".\")\n",
    "axs[2].plot(ensemble_prior_w, ensemble_prior_w, \".\")\n",
    "axs[3].plot(ensemble_prior_w, ensemble_prior_w, \".\")\n",
    "\n",
    "axs[1].plot(ensemble_prior_w, etkf_posterior_w, \".\")\n",
    "axs[1].set_title(\"ETKF\")\n",
    "axs[2].plot(ensemble_prior_w, letkf_posterior_w, \".\")\n",
    "axs[2].set_title(\"LETKF\")\n",
    "axs[3].plot(ensemble_prior_w, iewpf_posterior_w, \".\")\n",
    "axs[3].set_title(\"IEWPF\")\n",
    "\n",
    "for i in range(4):\n",
    "    axs[i].set_ylim((0,40))\n",
    "    axs[i].set_xlim((0,40))"
   ]
  },
  {
   "cell_type": "code",
   "execution_count": 41,
   "metadata": {},
   "outputs": [],
   "source": [
    "np.savetxt(\"eigKFprior.csv\", np.real(np.vstack([kf_prior_w, kf_prior_w]).T),delimiter=' ', newline='\\n',  fmt='%1.8f')\n",
    "np.savetxt(\"eigKFposterior.csv\", np.real(np.vstack([kf_prior_w, kf_posterior_w]).T),delimiter=' ', newline='\\n',  fmt='%1.8f')\n",
    "\n",
    "np.savetxt(\"eigEprior.csv\", np.real(np.vstack([ensemble_prior_w, ensemble_prior_w]).T),delimiter=' ', newline='\\n',  fmt='%1.8f')\n",
    "np.savetxt(\"eigETKFposterior.csv\", np.real(np.vstack([ensemble_prior_w, etkf_posterior_w]).T),delimiter=' ', newline='\\n',  fmt='%1.8f')\n",
    "np.savetxt(\"eigLETKFposterior.csv\", np.real(np.vstack([ensemble_prior_w, letkf_posterior_w]).T),delimiter=' ', newline='\\n',  fmt='%1.8f')\n",
    "np.savetxt(\"eigIEWPFposterior.csv\", np.real(np.vstack([ensemble_prior_w, iewpf_posterior_w]).T),delimiter=' ', newline='\\n',  fmt='%1.8f')"
   ]
  },
  {
   "attachments": {},
   "cell_type": "markdown",
   "metadata": {},
   "source": [
    "## Ensembles in time"
   ]
  },
  {
   "cell_type": "code",
   "execution_count": 38,
   "metadata": {},
   "outputs": [],
   "source": [
    "prior_states_etkf = np.zeros((11, 1500, N_e))\n",
    "posterior_states_etkf = np.zeros((11, 1500, N_e))\n",
    "\n",
    "prior_states_letkf = np.zeros((11, 1500, N_e))\n",
    "posterior_states_letkf = np.zeros((11, 1500, N_e))\n",
    "\n",
    "prior_states_iewpf = np.zeros((11, 1500, N_e))\n",
    "posterior_states_iewpf = np.zeros((11, 1500, N_e))"
   ]
  },
  {
   "cell_type": "code",
   "execution_count": 39,
   "metadata": {},
   "outputs": [
    {
     "name": "stdout",
     "output_type": "stream",
     "text": [
      "ETKF DA\n",
      "LETKF DA\n",
      "IEWPF DA\n",
      "Model error in historical forecast added\n",
      "Model error in historical forecast added\n",
      "Model error in historical forecast added\n",
      "Model error in historical forecast added\n",
      "Model error in historical forecast added\n",
      "Model error in historical forecast added\n",
      "Model error in historical forecast added\n",
      "Model error in historical forecast added\n",
      "Model error in historical forecast added\n",
      "Model error in historical forecast added\n"
     ]
    }
   ],
   "source": [
    "\n",
    "# ETKF \n",
    "print(\"ETKF DA\")\n",
    "statistics_etkf = Statistics.Statistics(simulator, N_e, safe_history=True)\n",
    "statistics_etkf.set_prior(prior_args)\n",
    "\n",
    "etkFilter = ETKalmanFilter.ETKalman(statistics_etkf, observation)\n",
    "\n",
    "for t in range(observation.N_obs):\n",
    "    statistics_etkf.propagate(25)\n",
    "    prior_states_etkf[t+1] = statistics_etkf.ensemble.ensemble\n",
    "    etkFilter.filter(statistics_etkf.ensemble.ensemble, observation.obses[t])\n",
    "    posterior_states_etkf[t+1] = statistics_etkf.ensemble.ensemble\n",
    "\n",
    "# LETKF\n",
    "print(\"LETKF DA\")\n",
    "statistics_letkf = Statistics.Statistics(simulator, N_e, safe_history=True)\n",
    "statistics_letkf.set_prior(prior_args) \n",
    "\n",
    "sletkFilter = SLETKalmanFilter.SLETKalman(statistics_letkf, observation, 6)\n",
    "\n",
    "for t in range(observation.N_obs):\n",
    "    statistics_letkf.propagate(25)\n",
    "    prior_states_letkf[t+1] = statistics_letkf.ensemble.ensemble\n",
    "    sletkFilter.filter(statistics_letkf.ensemble.ensemble, observation.obses[t])\n",
    "    posterior_states_letkf[t+1] = statistics_letkf.ensemble.ensemble\n",
    "\n",
    "# IEWPF\n",
    "print(\"IEWPF DA\")\n",
    "statistics_iewpf = Statistics.Statistics(simulator, N_e, safe_history=True)\n",
    "statistics_iewpf.set_prior(prior_args)\n",
    "\n",
    "iewpFilter = IEWParticleFilter.IEWParticle(statistics_iewpf, observation, beta=0.55)\n",
    "\n",
    "for t in range(observation.N_obs):\n",
    "    statistics_iewpf.propagate(25, model_error=False)\n",
    "    prior_states_iewpf[t+1] = statistics_iewpf.ensemble.ensemble + statistics_iewpf.simulator.noise_sampler.sample(N_e)\n",
    "    iewpFilter.filter(statistics_iewpf.ensemble.ensemble, observation.obses[t])\n",
    "    posterior_states_iewpf[t+1] = statistics_iewpf.ensemble.ensemble\n"
   ]
  },
  {
   "cell_type": "code",
   "execution_count": 40,
   "metadata": {},
   "outputs": [
    {
     "name": "stderr",
     "output_type": "stream",
     "text": [
      "/home/florianb/miniconda3/envs/advecdiff/lib/python3.8/site-packages/matplotlib/cbook/__init__.py:1298: ComplexWarning: Casting complex values to real discards the imaginary part\n",
      "  return np.asarray(x, float)\n",
      "/home/florianb/miniconda3/envs/advecdiff/lib/python3.8/site-packages/matplotlib/cbook/__init__.py:1298: ComplexWarning: Casting complex values to real discards the imaginary part\n",
      "  return np.asarray(x, float)\n",
      "/home/florianb/miniconda3/envs/advecdiff/lib/python3.8/site-packages/matplotlib/cbook/__init__.py:1298: ComplexWarning: Casting complex values to real discards the imaginary part\n",
      "  return np.asarray(x, float)\n",
      "/home/florianb/miniconda3/envs/advecdiff/lib/python3.8/site-packages/matplotlib/cbook/__init__.py:1298: ComplexWarning: Casting complex values to real discards the imaginary part\n",
      "  return np.asarray(x, float)\n",
      "/home/florianb/miniconda3/envs/advecdiff/lib/python3.8/site-packages/matplotlib/cbook/__init__.py:1298: ComplexWarning: Casting complex values to real discards the imaginary part\n",
      "  return np.asarray(x, float)\n",
      "/home/florianb/miniconda3/envs/advecdiff/lib/python3.8/site-packages/matplotlib/cbook/__init__.py:1298: ComplexWarning: Casting complex values to real discards the imaginary part\n",
      "  return np.asarray(x, float)\n",
      "/home/florianb/miniconda3/envs/advecdiff/lib/python3.8/site-packages/matplotlib/cbook/__init__.py:1298: ComplexWarning: Casting complex values to real discards the imaginary part\n",
      "  return np.asarray(x, float)\n",
      "/home/florianb/miniconda3/envs/advecdiff/lib/python3.8/site-packages/matplotlib/cbook/__init__.py:1298: ComplexWarning: Casting complex values to real discards the imaginary part\n",
      "  return np.asarray(x, float)\n"
     ]
    },
    {
     "data": {
      "image/png": "[encoded data removed]",
      "text/plain": [
       "<Figure size 1080x216 with 4 Axes>"
      ]
     },
     "metadata": {
      "needs_background": "light"
     },
     "output_type": "display_data"
    }
   ],
   "source": [
    "T = 10\n",
    "\n",
    "fig, axs = plt.subplots(1, 4, figsize=(15,3))\n",
    "\n",
    "axs[0].set_ylabel(\"DA step: \" + str(T))\n",
    "kf_prior_w = np.sort(np.linalg.eig(kf_prior_covs[T])[0])\n",
    "kf_posterior_w = np.sort(np.linalg.eig(kf_posterior_covs[T])[0])\n",
    "axs[0].plot(kf_prior_w, kf_prior_w, \".\")\n",
    "axs[0].plot(kf_prior_w, kf_posterior_w, \".\")\n",
    "axs[0].set_title(\"KF\")\n",
    "\n",
    "etkf_prior_w = np.sort(np.linalg.eig(estimateCov(prior_states_etkf[T]))[0])\n",
    "etkf_posterior_w = np.sort(np.linalg.eig(estimateCov(posterior_states_etkf[T]))[0])\n",
    "\n",
    "letkf_prior_w = np.sort(np.linalg.eig(estimateCov(prior_states_letkf[T]))[0])\n",
    "letkf_posterior_w = np.sort(np.linalg.eig(estimateCov(posterior_states_letkf[T]))[0])\n",
    "\n",
    "iewpf_prior_w = np.sort(np.linalg.eig(estimateCov(prior_states_iewpf[T]))[0])\n",
    "iewpf_posterior_w = np.sort(np.linalg.eig(estimateCov(posterior_states_iewpf[T]))[0])\n",
    "\n",
    "\n",
    "axs[1].plot(etkf_prior_w, etkf_prior_w, \".\")\n",
    "axs[1].plot(etkf_prior_w, etkf_posterior_w, \".\")\n",
    "axs[1].set_title(\"ETKF\")\n",
    "\n",
    "axs[2].plot(letkf_prior_w, letkf_prior_w, \".\")\n",
    "axs[2].plot(letkf_prior_w, letkf_posterior_w, \".\")\n",
    "axs[2].set_title(\"LETKF\")\n",
    "\n",
    "axs[3].plot(iewpf_prior_w, iewpf_prior_w, \".\")\n",
    "axs[3].plot(iewpf_prior_w, iewpf_posterior_w, \".\")\n",
    "axs[3].set_title(\"IEWPF\")\n",
    "\n",
    "for i in range(4):\n",
    "    axs[i].set_ylim((0,1.5))\n",
    "    axs[i].set_xlim((0,1.5))"
   ]
  },
  {
   "cell_type": "code",
   "execution_count": 42,
   "metadata": {},
   "outputs": [],
   "source": [
    "np.savetxt(\"eigKFpriorT.csv\", np.real(np.vstack([kf_prior_w, kf_prior_w]).T),delimiter=' ', newline='\\n',  fmt='%1.8f')\n",
    "np.savetxt(\"eigKFposteriorT.csv\", np.real(np.vstack([kf_prior_w, kf_posterior_w]).T),delimiter=' ', newline='\\n',  fmt='%1.8f')\n",
    "\n",
    "np.savetxt(\"eigETKFpriorT.csv\", np.real(np.vstack([etkf_prior_w, etkf_prior_w]).T),delimiter=' ', newline='\\n',  fmt='%1.8f')\n",
    "np.savetxt(\"eigETKFposteriorT.csv\", np.real(np.vstack([etkf_prior_w, etkf_posterior_w]).T),delimiter=' ', newline='\\n',  fmt='%1.8f')\n",
    "\n",
    "np.savetxt(\"eigLETKFpriorT.csv\", np.real(np.vstack([letkf_prior_w, letkf_prior_w]).T),delimiter=' ', newline='\\n',  fmt='%1.8f')\n",
    "np.savetxt(\"eigLETKFposteriorT.csv\", np.real(np.vstack([letkf_prior_w, letkf_posterior_w]).T),delimiter=' ', newline='\\n',  fmt='%1.8f')\n",
    "\n",
    "np.savetxt(\"eigIEWPFpriorT.csv\", np.real(np.vstack([iewpf_prior_w, iewpf_prior_w]).T),delimiter=' ', newline='\\n',  fmt='%1.8f')\n",
    "np.savetxt(\"eigIEWPFposteriorT.csv\", np.real(np.vstack([iewpf_prior_w, iewpf_posterior_w]).T),delimiter=' ', newline='\\n',  fmt='%1.8f')"
   ]
  },
  {
   "cell_type": "code",
   "execution_count": null,
   "metadata": {},
   "outputs": [],
   "source": []
  }
 ],
 "metadata": {
  "interpreter": {
   "hash": "f76bea9b00210d8b9373d3ead85203e5abc5c792bcd5058fe1476c8822b21ae7"
  },
  "kernelspec": {
   "display_name": "Python 3.8.11 64-bit ('opendrift': conda)",
   "name": "python3"
  },
  "language_info": {
   "codemirror_mode": {
    "name": "ipython",
    "version": 3
   },
   "file_extension": ".py",
   "mimetype": "text/x-python",
   "name": "python",
   "nbconvert_exporter": "python",
   "pygments_lexer": "ipython3",
   "version": "3.8.12"
  },
  "orig_nbformat": 4
 },
 "nbformat": 4,
 "nbformat_minor": 2
}
