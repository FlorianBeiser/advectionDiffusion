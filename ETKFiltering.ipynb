{
 "metadata": {
  "language_info": {
   "codemirror_mode": {
    "name": "ipython",
    "version": 3
   },
   "file_extension": ".py",
   "mimetype": "text/x-python",
   "name": "python",
   "nbconvert_exporter": "python",
   "pygments_lexer": "ipython3",
   "version": "3.9.2"
  },
  "orig_nbformat": 4,
  "kernelspec": {
   "name": "python3",
   "display_name": "Python 3.9.2 64-bit ('opendrift': conda)"
  },
  "interpreter": {
   "hash": "391e662734e275c95864cbc40c69175bfa057a070476f3d624960984d12b01d6"
  }
 },
 "nbformat": 4,
 "nbformat_minor": 2,
 "cells": [
  {
   "cell_type": "markdown",
   "source": [
    "## Kalman Filtering\r\n"
   ],
   "metadata": {}
  },
  {
   "cell_type": "code",
   "execution_count": 1,
   "source": [
    "import Simulator\r\n",
    "import Observation\r\n",
    "import Statistics\r\n",
    "import ETKalmanFilter"
   ],
   "outputs": [],
   "metadata": {}
  },
  {
   "cell_type": "markdown",
   "source": [
    "### Definition of forward model\r\n",
    "\r\n",
    "For Kalman filtering we have to be able to propagate a Gaussian distribution in time and to have access to the linear operators\r\n",
    "\r\n"
   ],
   "metadata": {}
  },
  {
   "cell_type": "code",
   "execution_count": 2,
   "source": [
    "timestamp = \"2021_07_29-12_52_15\"\r\n",
    "\r\n",
    "grid, simulator = Simulator.from_file(timestamp)"
   ],
   "outputs": [],
   "metadata": {}
  },
  {
   "cell_type": "markdown",
   "source": [
    "### Definition of initial distribution \r\n",
    "\r\n",
    "The inital state is equipped with a Gaussian distribution specified by its mean and covariance. "
   ],
   "metadata": {}
  },
  {
   "cell_type": "code",
   "execution_count": 3,
   "source": [
    "import numpy as np\r\n",
    "\r\n",
    "def prior(grid, phi):\r\n",
    "    \"\"\"\r\n",
    "    Constructing a Matern-type covariance prior with Matern-parameter phi\r\n",
    "    where the matrix is normalized with the standard deviation\r\n",
    "    \"\"\"\r\n",
    "    # INPUT! Bell mean\r\n",
    "    mean = 0.0*np.ones(grid.N_x)\r\n",
    "    # INPUT! Constant var\r\n",
    "    var  = 1.0*np.ones(grid.N_x)\r\n",
    "\r\n",
    "    # Matern covariance\r\n",
    "    dist_mat = np.copy(grid.dist_mat)\r\n",
    "    cov = (1+phi*dist_mat)*np.exp(-phi*dist_mat)\r\n",
    "    \r\n",
    "    # Normalisation\r\n",
    "    var_mesh = np.meshgrid(np.sqrt(var),np.sqrt(var))[0]*np.meshgrid(np.sqrt(var),np.sqrt(var))[1]    \r\n",
    "\r\n",
    "    return mean, var_mesh, cov"
   ],
   "outputs": [],
   "metadata": {}
  },
  {
   "cell_type": "code",
   "execution_count": 4,
   "source": [
    "statistics = Statistics.Statistics(simulator, 500)\r\n",
    "mean, var_mesh, cov = prior(grid=grid, phi=2.0)\r\n",
    "statistics.set(mean, var_mesh*cov, nugget=0.5)\r\n",
    "statistics.plot()"
   ],
   "outputs": [
    {
     "output_type": "stream",
     "name": "stdout",
     "text": [
      "Please remember to set priors!\n"
     ]
    }
   ],
   "metadata": {}
  },
  {
   "cell_type": "markdown",
   "source": [
    "### Observations"
   ],
   "metadata": {}
  },
  {
   "cell_type": "code",
   "execution_count": null,
   "source": [
    "observation = Observation.from_file(simulator)"
   ],
   "outputs": [],
   "metadata": {}
  },
  {
   "cell_type": "markdown",
   "source": [
    "### Temporal evolution of model"
   ],
   "metadata": {}
  },
  {
   "cell_type": "code",
   "execution_count": null,
   "source": [
    "etkFilter = ETKalmanFilter.ETKalman(statistics, observation)\r\n",
    "for t in range(observation.N_obs):\r\n",
    "    print(t)\r\n",
    "    statistics.propagate(25)\r\n",
    "    etkFilter.filter(statistics.ensemble.ensemble, observation.obses[t])\r\n",
    "    statistics.plot()"
   ],
   "outputs": [],
   "metadata": {}
  }
 ]
}