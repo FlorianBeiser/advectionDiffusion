{
 "metadata": {
  "language_info": {
   "codemirror_mode": {
    "name": "ipython",
    "version": 3
   },
   "file_extension": ".py",
   "mimetype": "text/x-python",
   "name": "python",
   "nbconvert_exporter": "python",
   "pygments_lexer": "ipython3",
   "version": "3.9.2"
  },
  "orig_nbformat": 4,
  "kernelspec": {
   "name": "python3",
   "display_name": "Python 3.9.2 64-bit ('opendrift': conda)"
  },
  "interpreter": {
   "hash": "391e662734e275c95864cbc40c69175bfa057a070476f3d624960984d12b01d6"
  }
 },
 "nbformat": 4,
 "nbformat_minor": 2,
 "cells": [
  {
   "cell_type": "markdown",
   "source": [
    "## ETK Filtering"
   ],
   "metadata": {}
  },
  {
   "cell_type": "code",
   "execution_count": null,
   "source": [
    "import Simulator\n",
    "import Observation\n",
    "import Statistics\n",
    "import ETKalmanFilter"
   ],
   "outputs": [],
   "metadata": {}
  },
  {
   "cell_type": "markdown",
   "source": [
    "## Loading simulator \r\n",
    "\r\n",
    "For Kalman filtering we have to be able to propagate a Gaussian distribution in time and to have access to the linear operators"
   ],
   "metadata": {}
  },
  {
   "cell_type": "code",
   "execution_count": null,
   "source": [
    "timestamp = \"2021_08_26-12_22_18\"\n",
    "\n",
    "grid, simulator = Simulator.from_file(timestamp)"
   ],
   "outputs": [],
   "metadata": {}
  },
  {
   "cell_type": "markdown",
   "source": [
    "## Definition of initial distribution \r\n",
    "\r\n",
    "The inital state is equipped with a Gaussian distribution specified by its mean and covariance. "
   ],
   "metadata": {}
  },
  {
   "cell_type": "code",
   "execution_count": null,
   "source": [
    "statistics = Statistics.Statistics(simulator, N_e=100)"
   ],
   "outputs": [],
   "metadata": {}
  },
  {
   "cell_type": "code",
   "execution_count": null,
   "source": [
    "prior_args = Statistics.prior_args_from_file(timestamp)\n",
    "statistics.set_prior(prior_args)\n",
    "\n",
    "statistics.plot()"
   ],
   "outputs": [],
   "metadata": {}
  },
  {
   "cell_type": "markdown",
   "source": [
    "## Loading observations \r\n",
    "\r\n",
    "Observation positions which are fixed for a setup and values from the truth"
   ],
   "metadata": {}
  },
  {
   "cell_type": "code",
   "execution_count": null,
   "source": [
    "obs_timestamp = \"2021_08_26-12_22_28\"\n",
    "observation = Observation.from_file(grid, timestamp, obs_timestamp)"
   ],
   "outputs": [],
   "metadata": {}
  },
  {
   "cell_type": "markdown",
   "source": [
    "## ETKF filtering\r\n",
    "\r\n",
    "Updating/conditioning the distributions at every observation time"
   ],
   "metadata": {}
  },
  {
   "cell_type": "code",
   "execution_count": null,
   "source": [
    "etkFilter = ETKalmanFilter.ETKalman(statistics, observation)\n",
    "\n",
    "for t in range(observation.N_obs):\n",
    "    print(t)\n",
    "    statistics.propagate(25)\n",
    "    etkFilter.filter(statistics.ensemble.ensemble, observation.obses[t])\n",
    "    statistics.plot()"
   ],
   "outputs": [],
   "metadata": {}
  }
 ]
}