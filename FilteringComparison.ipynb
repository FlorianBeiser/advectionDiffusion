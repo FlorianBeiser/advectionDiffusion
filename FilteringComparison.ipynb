{
 "metadata": {
  "language_info": {
   "codemirror_mode": {
    "name": "ipython",
    "version": 3
   },
   "file_extension": ".py",
   "mimetype": "text/x-python",
   "name": "python",
   "nbconvert_exporter": "python",
   "pygments_lexer": "ipython3",
   "version": "3.8.11"
  },
  "orig_nbformat": 4,
  "kernelspec": {
   "name": "python3",
   "display_name": "Python 3.8.11 64-bit ('opendrift': conda)"
  },
  "interpreter": {
   "hash": "f76bea9b00210d8b9373d3ead85203e5abc5c792bcd5058fe1476c8822b21ae7"
  }
 },
 "nbformat": 4,
 "nbformat_minor": 2,
 "cells": [
  {
   "cell_type": "markdown",
   "source": [
    "## Serial LETK Filtering\r\n"
   ],
   "metadata": {}
  },
  {
   "cell_type": "code",
   "execution_count": null,
   "source": [
    "import Simulator\n",
    "import Observation\n",
    "import Statistics\n",
    "\n",
    "import KalmanFilter\n",
    "import ETKalmanFilter\n",
    "import SLETKalmanFilter\n",
    "import IEWParticleFilter\n",
    "\n",
    "import Comparer"
   ],
   "outputs": [],
   "metadata": {}
  },
  {
   "cell_type": "markdown",
   "source": [
    "## Loading simulator \r\n",
    "\r\n",
    "For Kalman filtering we have to be able to propagate a Gaussian distribution in time and to have access to the linear operators"
   ],
   "metadata": {}
  },
  {
   "cell_type": "code",
   "execution_count": null,
   "source": [
    "timestamp = \"2021_08_26-12_22_18\"\n",
    "\n",
    "grid, simulator = Simulator.from_file(timestamp)"
   ],
   "outputs": [],
   "metadata": {}
  },
  {
   "cell_type": "markdown",
   "source": [
    "## Loading observations \r\n",
    "\r\n",
    "Observation positions which are fixed for a setup and values from the truth"
   ],
   "metadata": {}
  },
  {
   "cell_type": "code",
   "execution_count": null,
   "source": [
    "obs_timestamp = \"2021_08_26-12_22_28\"\n",
    "observation = Observation.from_file(grid, timestamp, obs_timestamp)"
   ],
   "outputs": [],
   "metadata": {}
  },
  {
   "cell_type": "code",
   "execution_count": null,
   "source": [
    "observation.plot_positions()"
   ],
   "outputs": [],
   "metadata": {}
  },
  {
   "cell_type": "markdown",
   "source": [
    "## Definition of initial distribution \r\n",
    "\r\n",
    "The inital state is equipped with a Gaussian distribution specified by its mean and covariance. "
   ],
   "metadata": {}
  },
  {
   "cell_type": "code",
   "execution_count": null,
   "source": [
    "prior_args = Statistics.prior_args_from_file(timestamp)"
   ],
   "outputs": [],
   "metadata": {}
  },
  {
   "cell_type": "markdown",
   "source": [
    "## New truth if changes intended"
   ],
   "metadata": {}
  },
  {
   "cell_type": "code",
   "execution_count": null,
   "source": [
    "new_truth = False"
   ],
   "outputs": [],
   "metadata": {}
  },
  {
   "cell_type": "code",
   "execution_count": null,
   "source": [
    "if new_truth:\n",
    "    observation.clear_observations()\n",
    "    observation.set_regular_positions(10)\n",
    "    observation.plot_positions()\n",
    "\n",
    "    statistics_truth = Statistics.Statistics(simulator, 1)\n",
    "    statistics_truth.set_prior(prior_args)\n",
    "\n",
    "    for t in range(10):\n",
    "        statistics_truth.propagate(25)\n",
    "        statistics_truth.plot()\n",
    "        observation.observe(statistics_truth.mean)"
   ],
   "outputs": [],
   "metadata": {}
  },
  {
   "cell_type": "markdown",
   "source": [
    "## Kalman filtering\r\n",
    "\r\n",
    "Updating/conditioning the distributions at every observation time"
   ],
   "metadata": {}
  },
  {
   "cell_type": "code",
   "execution_count": null,
   "source": [
    "statistics_kf = Statistics.Statistics(simulator)\n",
    "statistics_kf.set_prior(prior_args)\n",
    "\n",
    "statistics_kf.plot()"
   ],
   "outputs": [],
   "metadata": {}
  },
  {
   "cell_type": "code",
   "execution_count": null,
   "source": [
    "kalmanFilter = KalmanFilter.Kalman(statistics_kf, observation)\n",
    "\n",
    "for t in range(observation.N_obs):\n",
    "    print(t)\n",
    "    statistics_kf.propagate(25)\n",
    "    kalmanFilter.filter(statistics_kf.mean, statistics_kf.cov, observation.obses[t])\n",
    "    statistics_kf.plot()"
   ],
   "outputs": [],
   "metadata": {}
  },
  {
   "cell_type": "markdown",
   "source": [
    "## ETKF filtering\r\n",
    "\r\n",
    "Updating/conditioning the distributions at every observation time"
   ],
   "metadata": {}
  },
  {
   "cell_type": "code",
   "execution_count": null,
   "source": [
    "statistics_etkf = Statistics.Statistics(simulator, 100)\n",
    "statistics_etkf.set_prior(prior_args)\n",
    "\n",
    "statistics_etkf.plot()"
   ],
   "outputs": [],
   "metadata": {}
  },
  {
   "cell_type": "code",
   "execution_count": null,
   "source": [
    "etkFilter = ETKalmanFilter.ETKalman(statistics_etkf, observation)\n",
    "\n",
    "for t in range(observation.N_obs):\n",
    "    print(t)\n",
    "    statistics_etkf.propagate(25)\n",
    "    etkFilter.filter(statistics_etkf.ensemble.ensemble, observation.obses[t])\n",
    "    statistics_etkf.plot()"
   ],
   "outputs": [],
   "metadata": {}
  },
  {
   "cell_type": "markdown",
   "source": [
    "## LETKF filtering\r\n",
    "\r\n",
    "Updating/conditioning the distributions at every observation time"
   ],
   "metadata": {}
  },
  {
   "cell_type": "code",
   "execution_count": null,
   "source": [
    "statistics_letkf = Statistics.Statistics(simulator, 100)\n",
    "statistics_letkf.set_prior(prior_args)\n",
    "\n",
    "statistics_letkf.plot()"
   ],
   "outputs": [],
   "metadata": {}
  },
  {
   "cell_type": "code",
   "execution_count": null,
   "source": [
    "# We choose the scale_r as about 2/3 of the correlation length in grid cells \n",
    "scale_r = 8"
   ],
   "outputs": [],
   "metadata": {}
  },
  {
   "cell_type": "code",
   "execution_count": null,
   "source": [
    "sletkFilter = SLETKalmanFilter.SLETKalman(statistics_letkf, observation, scale_r)"
   ],
   "outputs": [],
   "metadata": {}
  },
  {
   "cell_type": "code",
   "execution_count": null,
   "source": [
    "sletkFilter.groups"
   ],
   "outputs": [],
   "metadata": {}
  },
  {
   "cell_type": "code",
   "execution_count": null,
   "source": [
    "from matplotlib import pyplot as plt\n",
    "plt.imshow(sletkFilter.W_loc, origin=\"lower\", vmin=0.0, vmax=1.0)\n",
    "plt.colorbar()\n",
    "plt.show()\n",
    "for g in range(len(sletkFilter.groups)):\n",
    "    plt.imshow(sletkFilter.W_analyses[g], origin=\"lower\", vmin=0.0, vmax=1.0)\n",
    "    plt.colorbar()\n",
    "    plt.show()"
   ],
   "outputs": [],
   "metadata": {}
  },
  {
   "cell_type": "code",
   "execution_count": null,
   "source": [
    "for t in range(observation.N_obs):\n",
    "    print(t)\n",
    "    statistics_letkf.propagate(25)\n",
    "    sletkFilter.filter(statistics_letkf.ensemble.ensemble, observation.obses[t])\n",
    "    statistics_letkf.plot()"
   ],
   "outputs": [],
   "metadata": {}
  },
  {
   "cell_type": "markdown",
   "source": [
    "## IEWPF filtering"
   ],
   "metadata": {}
  },
  {
   "cell_type": "code",
   "execution_count": null,
   "source": [
    "statistics_iewpf = Statistics.Statistics(simulator, 100)\n",
    "statistics_iewpf.set_prior(prior_args)\n",
    "\n",
    "statistics_iewpf.plot()"
   ],
   "outputs": [],
   "metadata": {}
  },
  {
   "cell_type": "code",
   "execution_count": null,
   "source": [
    "iewpFilter = IEWParticleFilter.IEWParticle(statistics_iewpf, observation)\n",
    "\n",
    "for t in range(observation.N_obs):\n",
    "    print(t)\n",
    "    statistics_iewpf.propagate(25)\n",
    "    iewpFilter.filter(statistics_iewpf.ensemble.ensemble, observation.obses[t])\n",
    "    statistics_iewpf.plot()"
   ],
   "outputs": [],
   "metadata": {}
  },
  {
   "cell_type": "markdown",
   "source": [
    "## Comparison"
   ],
   "metadata": {}
  },
  {
   "cell_type": "code",
   "execution_count": null,
   "source": [
    "from importlib import reload  \n",
    "reload(Comparer)"
   ],
   "outputs": [],
   "metadata": {}
  },
  {
   "cell_type": "code",
   "execution_count": null,
   "source": [
    "comparer = Comparer.Comparer(statistics_kf, statistics_etkf, statistics_letkf, statistics_iewpf)"
   ],
   "outputs": [],
   "metadata": {}
  },
  {
   "cell_type": "code",
   "execution_count": null,
   "source": [
    "comparer.mean_plots()"
   ],
   "outputs": [],
   "metadata": {}
  },
  {
   "cell_type": "code",
   "execution_count": null,
   "source": [
    "mean_rmse_kf, mean_rmse_etkf, mean_rmse_letkf, mean_rmse_iewpf = comparer.mean_rmse()\n",
    "\n",
    "print(\"RMSE of KF = \", mean_rmse_kf)\n",
    "print(\"RMSE of ETKF = \", mean_rmse_etkf)\n",
    "print(\"RMSE of LETKF = \", mean_rmse_letkf)\n",
    "print(\"RMSE of IEWPF = \", mean_rmse_iewpf)"
   ],
   "outputs": [],
   "metadata": {}
  },
  {
   "cell_type": "code",
   "execution_count": null,
   "source": [
    "comparer.cov_plots()"
   ],
   "outputs": [],
   "metadata": {}
  },
  {
   "cell_type": "code",
   "execution_count": null,
   "source": [
    "cov_frob_kf, cov_frob_etkf, cov_frob_letkf, cov_frob_iewpf = comparer.cov_frobenius_dist()\n",
    "\n",
    "print(\"Frobenius error in Cov matrix (KF) = \", cov_frob_kf)\n",
    "print(\"Frobenius error in Cov matrix (ETKF) = \", cov_frob_etkf)\n",
    "print(\"Frobenius error in Cov matrix (LETKF) = \", cov_frob_letkf)\n",
    "print(\"Frobenius error in Cov matrix (IEWPF) = \", cov_frob_iewpf)"
   ],
   "outputs": [],
   "metadata": {}
  },
  {
   "cell_type": "code",
   "execution_count": null,
   "source": [
    "comparer.stddev_plots()"
   ],
   "outputs": [],
   "metadata": {}
  },
  {
   "cell_type": "code",
   "execution_count": null,
   "source": [
    "stddev_rmse_kf, stddev_rmse_etkf, stddev_rmse_letkf, stddev_rmse_iewpf = comparer.stddev_rmse()\n",
    "\n",
    "print(\"RMSE of KF = \", stddev_rmse_kf)\n",
    "print(\"RMSE of ETKF = \", stddev_rmse_etkf)\n",
    "print(\"RMSE of LETKF = \", stddev_rmse_letkf)\n",
    "print(\"RMSE of IEWPF = \", stddev_rmse_iewpf)"
   ],
   "outputs": [],
   "metadata": {}
  },
  {
   "cell_type": "code",
   "execution_count": null,
   "source": [
    "reload(Comparer)\n",
    "comparer = Comparer.Comparer(statistics_kf, statistics_etkf, statistics_letkf, statistics_iewpf)"
   ],
   "outputs": [],
   "metadata": {}
  },
  {
   "cell_type": "code",
   "execution_count": null,
   "source": [
    "comparer.set_poi([0,0])\n",
    "comparer.set_poi([25,15])\n",
    "comparer.set_poi([1,0])"
   ],
   "outputs": [],
   "metadata": {}
  },
  {
   "cell_type": "code",
   "execution_count": null,
   "source": [
    "comparer.poi_plot(observation)"
   ],
   "outputs": [],
   "metadata": {}
  },
  {
   "cell_type": "code",
   "execution_count": null,
   "source": [
    "comparer.poi_hist(0)\n",
    "comparer.poi_hist(1)\n",
    "comparer.poi_hist(2)"
   ],
   "outputs": [],
   "metadata": {}
  },
  {
   "cell_type": "code",
   "execution_count": null,
   "source": [
    "comparer.poi_ecdf_plots(0)\n",
    "comparer.poi_ecdf_plots(1)\n",
    "comparer.poi_ecdf_plots(2)"
   ],
   "outputs": [],
   "metadata": {}
  },
  {
   "cell_type": "code",
   "execution_count": null,
   "source": [
    "ecdf_err_etkf, ecdf_err_letkf, ecdf_err_iewpf = comparer.poi_ecdf_err(0)\n",
    "\n",
    "print(\"Difference at pos0 (ETKF) = \", ecdf_err_etkf)\n",
    "print(\"Difference at pos0 (LETKF) = \",ecdf_err_letkf)\n",
    "print(\"Difference at pos0 (IEWPF) = \",ecdf_err_iewpf)\n",
    "\n",
    "ecdf_err_etkf, ecdf_err_letkf, ecdf_err_iewpf = comparer.poi_ecdf_err(1)\n",
    "\n",
    "print(\"Difference at pos1 (ETKF) = \", ecdf_err_etkf)\n",
    "print(\"Difference at pos1 (LETKF) = \",ecdf_err_letkf)\n",
    "print(\"Difference at pos1 (IEWPF) = \",ecdf_err_iewpf)\n",
    "\n",
    "ecdf_err_etkf, ecdf_err_letkf, ecdf_err_iewpf = comparer.poi_ecdf_err(2)\n",
    "\n",
    "print(\"Difference at pos2 (ETKF) = \", ecdf_err_etkf)\n",
    "print(\"Difference at pos2 (LETKF) = \",ecdf_err_letkf)\n",
    "print(\"Difference at pos2 (IEWPF) = \",ecdf_err_iewpf)"
   ],
   "outputs": [],
   "metadata": {}
  }
 ]
}