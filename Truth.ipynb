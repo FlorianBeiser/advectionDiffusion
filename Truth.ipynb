{
 "metadata": {
  "language_info": {
   "codemirror_mode": {
    "name": "ipython",
    "version": 3
   },
   "file_extension": ".py",
   "mimetype": "text/x-python",
   "name": "python",
   "nbconvert_exporter": "python",
   "pygments_lexer": "ipython3",
   "version": "3.9.2"
  },
  "orig_nbformat": 4,
  "kernelspec": {
   "name": "python3",
   "display_name": "Python 3.9.2 64-bit ('opendrift': conda)"
  },
  "interpreter": {
   "hash": "391e662734e275c95864cbc40c69175bfa057a070476f3d624960984d12b01d6"
  }
 },
 "nbformat": 4,
 "nbformat_minor": 2,
 "cells": [
  {
   "cell_type": "markdown",
   "source": [
    "## Generating the Truth (the observation values for assimilation)\n",
    "\n",
    "We run the forward model and observe it at specific times."
   ],
   "metadata": {}
  },
  {
   "cell_type": "code",
   "execution_count": 1,
   "source": [
    "import Simulator\r\n",
    "import Observation\r\n",
    "import Statistics"
   ],
   "outputs": [],
   "metadata": {}
  },
  {
   "cell_type": "markdown",
   "source": [
    "### Definition of grid and advection diffusion system\n",
    "\n",
    "We solve the equation\n",
    "\n",
    "$\\frac{\\partial X(t,s)}{\\partial t} = \\nabla \\cdot D \\nabla X(t,s) - v_t \\cdot \\nabla X(t,s) + \\zeta X(t,s)  + \\epsilon(t,s)$\n",
    "\n",
    "where $\\epsilon$ is $\\mathcal{N}(0,\\mathbf{R}_t)$ model error. \n",
    "\n",
    "As parameters we choose \n",
    "- $D=0.25$\n",
    "- $\\mathbf{v} = (1.0,0.0)^\\top$\n",
    "- $\\zeta=-0.0001$.\n",
    "\n",
    "For the numerical solution a temporal forward amd spatial central finite-difference scheme is employed such that \n",
    "\n",
    "$\\mathbf{X}_{t+1} = \\mathbf{M}\\mathbf{X}_t + \\mathbf\n",
    "{\\epsilon}_t$\n",
    "\n"
   ],
   "metadata": {}
  },
  {
   "cell_type": "code",
   "execution_count": 2,
   "source": [
    "grid = Simulator.Grid(nx=50,ny=30,dx=0.1,dy=0.1)\r\n",
    "simulator = Simulator.Simulator(grid, D=0.25, v=[0.5,0.5])"
   ],
   "outputs": [],
   "metadata": {}
  },
  {
   "cell_type": "markdown",
   "source": [
    "### Definition of distribution \n",
    "\n",
    "The inital state is equipped with a Gaussian distribution specified by its mean and covariance. "
   ],
   "metadata": {}
  },
  {
   "cell_type": "code",
   "execution_count": 3,
   "source": [
    "import numpy as np\r\n",
    "from random import random\r\n",
    "\r\n",
    "def prior(grid, phi):\r\n",
    "    \"\"\"\r\n",
    "    Constructing a Matern-type covariance prior with Matern-parameter phi\r\n",
    "    where the matrix is normalized with the standard deviation\r\n",
    "    \"\"\"\r\n",
    "    # INPUT! Bell mean\r\n",
    "    bell_x = 0.25\r\n",
    "    bell_y = 0.25\r\n",
    "    sharpness = 2.0\r\n",
    "    mean = np.zeros([grid.nx, grid.ny])\r\n",
    "    for i in range(grid.nx):\r\n",
    "        for j in range(grid.ny):\r\n",
    "            mean[i,j] = np.exp(-sharpness*((i*grid.dx - bell_x*grid.nx*grid.dx)**2+(j*grid.dy - bell_y*grid.ny*grid.dy)**2))\r\n",
    "    mean = np.reshape(mean,grid.N_x, order=\"F\")\r\n",
    "\r\n",
    "    # INPUT! Constant var\r\n",
    "    cov = np.zeros((grid.N_x, grid.N_x))\r\n",
    "    \r\n",
    "    return mean, cov"
   ],
   "outputs": [],
   "metadata": {}
  },
  {
   "cell_type": "code",
   "execution_count": 4,
   "source": [
    "statistics = Statistics.Statistics(simulator)\r\n",
    "mean, cov = prior(grid=grid, phi=2.0)\r\n",
    "statistics.set(mean, cov)\r\n",
    "statistics.plot()"
   ],
   "outputs": [
    {
     "output_type": "stream",
     "name": "stdout",
     "text": [
      "Please remember to set priors!\n"
     ]
    },
    {
     "output_type": "display_data",
     "data": {
      "text/plain": [
       "<Figure size 864x288 with 6 Axes>"
      ],
      "image/png": "[encoded data removed]"
     },
     "metadata": {
      "needs_background": "light"
     }
    }
   ],
   "metadata": {}
  },
  {
   "cell_type": "markdown",
   "source": [
    "### Setting observation moorings"
   ],
   "metadata": {}
  },
  {
   "cell_type": "code",
   "execution_count": 5,
   "source": [
    "import numpy as np\r\n",
    "\r\n",
    "def observation_positions(grid, freq=10):\r\n",
    "    poses = []\r\n",
    "    for j in range(int(np.floor(grid.ny/freq))):\r\n",
    "        for i in range(int(np.floor(grid.nx/freq))):\r\n",
    "            poses.append([i*freq,j*freq])\r\n",
    "    return poses\r\n"
   ],
   "outputs": [],
   "metadata": {}
  },
  {
   "cell_type": "code",
   "execution_count": 6,
   "source": [
    "observation = Observation.Observation(simulator)\r\n"
   ],
   "outputs": [
    {
     "output_type": "stream",
     "name": "stdout",
     "text": [
      "Remember to set observation positions and to set values!\n"
     ]
    }
   ],
   "metadata": {}
  },
  {
   "cell_type": "code",
   "execution_count": 7,
   "source": [
    "poses = observation_positions(grid, freq=10)\r\n",
    "observation.set_positions(poses)"
   ],
   "outputs": [],
   "metadata": {}
  },
  {
   "cell_type": "markdown",
   "source": [
    "### Temporal evolution of model"
   ],
   "metadata": {}
  },
  {
   "cell_type": "code",
   "execution_count": 8,
   "source": [
    "for t in range(10):\r\n",
    "    print(t)\r\n",
    "    statistics.propagate(25)\r\n",
    "    observation.observe(statistics.mean)\r\n",
    "    statistics.plot()"
   ],
   "outputs": [],
   "metadata": {}
  },
  {
   "cell_type": "code",
   "execution_count": null,
   "source": [
    "np.savetxt(\"observations.txt\", observation.obses)"
   ],
   "outputs": [],
   "metadata": {}
  },
  {
   "cell_type": "code",
   "execution_count": null,
   "source": [],
   "outputs": [],
   "metadata": {}
  }
 ]
}