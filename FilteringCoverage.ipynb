{
 "cells": [
  {
   "cell_type": "markdown",
   "metadata": {},
   "source": [
    "# Kalman Filtering"
   ]
  },
  {
   "cell_type": "code",
   "execution_count": 1,
   "metadata": {},
   "outputs": [],
   "source": [
    "import Simulator\n",
    "import Observation\n",
    "import Statistics\n",
    "\n",
    "import KalmanFilter\n",
    "import ETKalmanFilter\n",
    "import SLETKalmanFilter\n",
    "import IEWParticleFilter\n",
    "\n",
    "import numpy as np"
   ]
  },
  {
   "cell_type": "markdown",
   "metadata": {},
   "source": [
    "## Loading simulator \n",
    "\n",
    "For Kalman filtering we have to be able to propagate a Gaussian distribution in time and to have access to the linear operators"
   ]
  },
  {
   "cell_type": "code",
   "execution_count": 2,
   "metadata": {},
   "outputs": [],
   "source": [
    "timestamp = \"2021_08_26-12_22_18\"\n",
    "\n",
    "grid, simulator = Simulator.from_file(timestamp)"
   ]
  },
  {
   "cell_type": "markdown",
   "metadata": {},
   "source": [
    "## Definition of initial distribution \n",
    "\n",
    "The inital state is equipped with a Gaussian distribution specified by its mean and covariance. "
   ]
  },
  {
   "cell_type": "code",
   "execution_count": 3,
   "metadata": {},
   "outputs": [],
   "source": [
    "true_statistics = Statistics.Statistics(simulator, 1)"
   ]
  },
  {
   "cell_type": "code",
   "execution_count": 4,
   "metadata": {},
   "outputs": [
    {
     "data": {
      "image/png": "[encoded data removed]",
      "text/plain": [
       "<Figure size 864x288 with 6 Axes>"
      ]
     },
     "metadata": {
      "needs_background": "light"
     },
     "output_type": "display_data"
    }
   ],
   "source": [
    "prior_args = Statistics.prior_args_from_file(timestamp)\n",
    "true_statistics.set_prior(prior_args)\n",
    "\n",
    "true_statistics.plot()"
   ]
  },
  {
   "cell_type": "markdown",
   "metadata": {},
   "source": [
    "## Loading observations \n",
    "\n",
    "Observation positions which are fixed for a setup and values from the truth"
   ]
  },
  {
   "cell_type": "code",
   "execution_count": 5,
   "metadata": {},
   "outputs": [
    {
     "name": "stdout",
     "output_type": "stream",
     "text": [
      "Remember to set observation positions and to set/observe values!\n"
     ]
    }
   ],
   "source": [
    "observation = Observation.from_file(grid, timestamp)"
   ]
  },
  {
   "cell_type": "markdown",
   "metadata": {},
   "source": [
    "# Coverage experiments"
   ]
  },
  {
   "cell_type": "code",
   "execution_count": 6,
   "metadata": {},
   "outputs": [],
   "source": [
    "trials = 250"
   ]
  },
  {
   "cell_type": "markdown",
   "metadata": {},
   "source": [
    "## Repeated KF experiments"
   ]
  },
  {
   "cell_type": "code",
   "execution_count": null,
   "metadata": {},
   "outputs": [],
   "source": [
    "coverageKF = np.zeros(grid.N_x)\n",
    "\n",
    "for s in range(trials):\n",
    "    print(\"Experiment \", s)\n",
    "    \n",
    "    # Generate new observations of a new truth\n",
    "    observation.clear_observations()\n",
    "\n",
    "    true_statistics = Statistics.Statistics(simulator, 1)\n",
    "    true_statistics.set_prior(prior_args)\n",
    "    true_statistics.propagate(nt=25)\n",
    "    truth = true_statistics.mean\n",
    "    observation.observe(true_statistics.mean)\n",
    "\n",
    "    # Data assimilation for the new observations\n",
    "    statistics = Statistics.Statistics(simulator)\n",
    "    statistics.set_prior(prior_args)\n",
    "    kalmanFilter = KalmanFilter.Kalman(statistics, observation)\n",
    "\n",
    "    statistics.propagate(25)\n",
    "    kalmanFilter.filter(statistics.mean, statistics.cov, observation.obses[0])\n",
    "\n",
    "    coverageKF = coverageKF + np.all([(truth < statistics.mean + 1.64*statistics.stddev), (truth > statistics.mean - 1.64*statistics.stddev)], axis=0)*1/trials"
   ]
  },
  {
   "cell_type": "markdown",
   "metadata": {},
   "source": [
    "## Repeated ETKF experiments"
   ]
  },
  {
   "cell_type": "code",
   "execution_count": null,
   "metadata": {},
   "outputs": [],
   "source": [
    "coverageETKF = np.zeros(grid.N_x)\n",
    "\n",
    "for s in range(trials):\n",
    "    print(\"Experiment \", s)\n",
    "    \n",
    "    # Generate new observations of a new truth\n",
    "    observation.clear_observations()\n",
    "\n",
    "    true_statistics = Statistics.Statistics(simulator, 1)\n",
    "    true_statistics.set_prior(prior_args)\n",
    "    true_statistics.propagate(nt=25)\n",
    "    truth = true_statistics.mean\n",
    "    observation.observe(true_statistics.mean)\n",
    "\n",
    "    # Data assimilation for the new observations\n",
    "    statistics = Statistics.Statistics(simulator, 100)\n",
    "    statistics.set_prior(prior_args)\n",
    "    etkFilter = ETKalmanFilter.ETKalman(statistics, observation)\n",
    "\n",
    "    statistics.propagate(25)\n",
    "    etkFilter.filter(statistics.ensemble.ensemble, observation.obses[0])\n",
    "\n",
    "    coverageETKF = coverageETKF + np.all([(truth < statistics.mean + 1.64*statistics.stddev), (truth > statistics.mean - 1.64*statistics.stddev)], axis=0)*1/trials"
   ]
  },
  {
   "cell_type": "markdown",
   "metadata": {},
   "source": [
    "## Repeated LETKF experiments"
   ]
  },
  {
   "cell_type": "code",
   "execution_count": null,
   "metadata": {},
   "outputs": [],
   "source": [
    "coverageSLETKF = np.zeros(grid.N_x)\n",
    "\n",
    "for s in range(trials):\n",
    "    print(\"Experiment \", s)\n",
    "    \n",
    "    # Generate new observations of a new truth\n",
    "    observation.clear_observations()\n",
    "\n",
    "    true_statistics = Statistics.Statistics(simulator, 1)\n",
    "    true_statistics.set_prior(prior_args)\n",
    "    true_statistics.propagate(nt=25)\n",
    "    truth = true_statistics.mean\n",
    "    observation.observe(true_statistics.mean)\n",
    "\n",
    "    # Data assimilation for the new observations\n",
    "    statistics = Statistics.Statistics(simulator, 100)\n",
    "    statistics.set_prior(prior_args)\n",
    "    sletkFilter = SLETKalmanFilter.SLETKalman(statistics, observation, 8)\n",
    "\n",
    "    statistics.propagate(25)\n",
    "    sletkFilter.filter(statistics.ensemble.ensemble, observation.obses[0])\n",
    "\n",
    "    coverageSLETKF = coverageSLETKF + np.all([(truth < statistics.mean + 1.64*statistics.stddev), (truth > statistics.mean - 1.64*statistics.stddev)], axis=0)*1/trials"
   ]
  },
  {
   "cell_type": "markdown",
   "metadata": {},
   "source": [
    "## Repeated IEWPF experiments"
   ]
  },
  {
   "cell_type": "code",
   "execution_count": 7,
   "metadata": {},
   "outputs": [
    {
     "name": "stdout",
     "output_type": "stream",
     "text": [
      "Experiment  0\n",
      "Experiment  1\n",
      "Experiment  2\n",
      "Experiment  3\n",
      "Experiment  4\n",
      "Experiment  5\n",
      "Experiment  6\n",
      "Experiment  7\n",
      "Experiment  8\n",
      "Experiment  9\n",
      "Experiment  10\n",
      "Experiment  11\n",
      "Experiment  12\n",
      "Experiment  13\n",
      "Experiment  14\n",
      "Experiment  15\n",
      "Experiment  16\n",
      "Experiment  17\n",
      "Experiment  18\n",
      "Experiment  19\n",
      "Experiment  20\n",
      "Experiment  21\n",
      "Experiment  22\n",
      "Experiment  23\n",
      "Experiment  24\n",
      "Experiment  25\n",
      "Experiment  26\n",
      "Experiment  27\n",
      "Experiment  28\n",
      "Experiment  29\n",
      "Experiment  30\n",
      "Experiment  31\n",
      "Experiment  32\n",
      "Experiment  33\n",
      "Experiment  34\n",
      "Experiment  35\n",
      "Experiment  36\n",
      "Experiment  37\n",
      "Experiment  38\n",
      "Experiment  39\n",
      "Experiment  40\n",
      "Experiment  41\n",
      "Experiment  42\n",
      "Experiment  43\n",
      "Experiment  44\n",
      "Experiment  45\n",
      "Experiment  46\n",
      "Experiment  47\n",
      "Experiment  48\n",
      "Experiment  49\n",
      "Experiment  50\n",
      "Experiment  51\n",
      "Experiment  52\n",
      "Experiment  53\n",
      "Experiment  54\n",
      "Experiment  55\n",
      "Experiment  56\n",
      "Experiment  57\n",
      "Experiment  58\n",
      "Experiment  59\n",
      "Experiment  60\n",
      "Experiment  61\n",
      "Experiment  62\n",
      "Experiment  63\n",
      "Experiment  64\n",
      "Experiment  65\n",
      "Experiment  66\n",
      "Experiment  67\n",
      "Experiment  68\n",
      "Experiment  69\n",
      "Experiment  70\n",
      "Experiment  71\n",
      "Experiment  72\n",
      "Experiment  73\n",
      "Experiment  74\n",
      "Experiment  75\n",
      "Experiment  76\n",
      "Experiment  77\n",
      "Experiment  78\n",
      "Experiment  79\n",
      "Experiment  80\n",
      "Experiment  81\n",
      "Experiment  82\n",
      "Experiment  83\n",
      "Experiment  84\n",
      "Experiment  85\n",
      "Experiment  86\n",
      "Experiment  87\n",
      "Experiment  88\n",
      "Experiment  89\n",
      "Experiment  90\n",
      "Experiment  91\n",
      "Experiment  92\n",
      "Experiment  93\n",
      "Experiment  94\n",
      "Experiment  95\n",
      "Experiment  96\n",
      "Experiment  97\n",
      "Experiment  98\n",
      "Experiment  99\n",
      "Experiment  100\n",
      "Experiment  101\n",
      "Experiment  102\n",
      "Experiment  103\n",
      "Experiment  104\n",
      "Experiment  105\n",
      "Experiment  106\n",
      "Experiment  107\n",
      "Experiment  108\n",
      "Experiment  109\n",
      "Experiment  110\n",
      "Experiment  111\n",
      "Experiment  112\n",
      "Experiment  113\n",
      "Experiment  114\n",
      "Experiment  115\n",
      "Experiment  116\n",
      "Experiment  117\n",
      "Experiment  118\n",
      "Experiment  119\n",
      "Experiment  120\n",
      "Experiment  121\n",
      "Experiment  122\n",
      "Experiment  123\n",
      "Experiment  124\n",
      "Experiment  125\n",
      "Experiment  126\n",
      "Experiment  127\n",
      "Experiment  128\n",
      "Experiment  129\n",
      "Experiment  130\n",
      "Experiment  131\n",
      "Experiment  132\n",
      "Experiment  133\n",
      "Experiment  134\n",
      "Experiment  135\n",
      "Experiment  136\n",
      "Experiment  137\n",
      "Experiment  138\n",
      "Experiment  139\n",
      "Experiment  140\n",
      "Experiment  141\n",
      "Experiment  142\n",
      "Experiment  143\n",
      "Experiment  144\n",
      "Experiment  145\n",
      "Experiment  146\n",
      "Experiment  147\n",
      "Experiment  148\n",
      "Experiment  149\n",
      "Experiment  150\n",
      "Experiment  151\n",
      "Experiment  152\n",
      "Experiment  153\n",
      "Experiment  154\n",
      "Experiment  155\n",
      "Experiment  156\n",
      "Experiment  157\n",
      "Experiment  158\n",
      "Experiment  159\n",
      "Experiment  160\n",
      "Experiment  161\n",
      "Experiment  162\n",
      "Experiment  163\n",
      "Experiment  164\n",
      "Experiment  165\n",
      "Experiment  166\n",
      "Experiment  167\n",
      "Experiment  168\n",
      "Experiment  169\n",
      "Experiment  170\n",
      "Experiment  171\n",
      "Experiment  172\n",
      "Experiment  173\n",
      "Experiment  174\n",
      "Experiment  175\n",
      "Experiment  176\n",
      "Experiment  177\n",
      "Experiment  178\n",
      "Experiment  179\n",
      "Experiment  180\n",
      "Experiment  181\n",
      "Experiment  182\n",
      "Experiment  183\n",
      "Experiment  184\n",
      "Experiment  185\n",
      "Experiment  186\n",
      "Experiment  187\n",
      "Experiment  188\n",
      "Experiment  189\n",
      "Experiment  190\n",
      "Experiment  191\n",
      "Experiment  192\n",
      "Experiment  193\n",
      "Experiment  194\n",
      "Experiment  195\n",
      "Experiment  196\n",
      "Experiment  197\n",
      "Experiment  198\n",
      "Experiment  199\n",
      "Experiment  200\n",
      "Experiment  201\n",
      "Experiment  202\n",
      "Experiment  203\n",
      "Experiment  204\n",
      "Experiment  205\n",
      "Experiment  206\n",
      "Experiment  207\n",
      "Experiment  208\n",
      "Experiment  209\n",
      "Experiment  210\n",
      "Experiment  211\n",
      "Experiment  212\n",
      "Experiment  213\n",
      "Experiment  214\n",
      "Experiment  215\n",
      "Experiment  216\n",
      "Experiment  217\n",
      "Experiment  218\n",
      "Experiment  219\n",
      "Experiment  220\n",
      "Experiment  221\n",
      "Experiment  222\n",
      "Experiment  223\n",
      "Experiment  224\n",
      "Experiment  225\n",
      "Experiment  226\n",
      "Experiment  227\n",
      "Experiment  228\n",
      "Experiment  229\n",
      "Experiment  230\n",
      "Experiment  231\n",
      "Experiment  232\n",
      "Experiment  233\n",
      "Experiment  234\n",
      "Experiment  235\n",
      "Experiment  236\n",
      "Experiment  237\n",
      "Experiment  238\n",
      "Experiment  239\n",
      "Experiment  240\n",
      "Experiment  241\n",
      "Experiment  242\n",
      "Experiment  243\n",
      "Experiment  244\n",
      "Experiment  245\n",
      "Experiment  246\n",
      "Experiment  247\n",
      "Experiment  248\n",
      "Experiment  249\n"
     ]
    }
   ],
   "source": [
    "coverageIEWPF = np.zeros(grid.N_x)\n",
    "\n",
    "for s in range(trials):\n",
    "    print(\"Experiment \", s)\n",
    "    \n",
    "    # Generate new observations of a new truth\n",
    "    observation.clear_observations()\n",
    "\n",
    "    true_statistics = Statistics.Statistics(simulator, 1)\n",
    "    true_statistics.set_prior(prior_args)\n",
    "    true_statistics.propagate(nt=25)\n",
    "    truth = true_statistics.mean\n",
    "    observation.observe(true_statistics.mean)\n",
    "\n",
    "    # Data assimilation for the new observations\n",
    "    statistics = Statistics.Statistics(simulator, 100)\n",
    "    statistics.set_prior(prior_args)\n",
    "    iewpFilter = IEWParticleFilter.IEWParticle(statistics, observation, beta=0.55)\n",
    "\n",
    "    statistics.propagate(25, model_error=False)\n",
    "    iewpFilter.filter(statistics.ensemble.ensemble, observation.obses[0])\n",
    "\n",
    "    coverageIEWPF = coverageIEWPF + np.all([(truth < statistics.mean + 1.64*statistics.stddev), (truth > statistics.mean - 1.64*statistics.stddev)], axis=0)*1/trials"
   ]
  },
  {
   "cell_type": "markdown",
   "metadata": {},
   "source": [
    "## Comparison"
   ]
  },
  {
   "cell_type": "code",
   "execution_count": 12,
   "metadata": {},
   "outputs": [
    {
     "data": {
      "image/png": "[encoded data removed]",
      "text/plain": [
       "<Figure size 864x288 with 8 Axes>"
      ]
     },
     "metadata": {
      "needs_background": "light"
     },
     "output_type": "display_data"
    }
   ],
   "source": [
    "from matplotlib import pyplot as plt\n",
    "from mpl_toolkits.axes_grid1 import AxesGrid\n",
    "\n",
    "fig = plt.figure(figsize=(12,4))\n",
    "\n",
    "axs = AxesGrid(fig, (0.0,0.0,1.0,1.0), nrows_ncols=(1,4), axes_pad=0.1,\n",
    "    cbar_mode=\"single\", cbar_location=\"right\", cbar_pad=0.1)\n",
    "\n",
    "try:\n",
    "    fig0 = axs[0].imshow(np.reshape(coverageKF,(grid.ny, grid.nx)), origin=\"lower\", vmin=0.8, vmax=1.0, cmap=\"seismic\")\n",
    "    axs[0].set_title(\"KF\")\n",
    "except:\n",
    "    fig0 = axs[0].imshow(np.ones((grid.ny, grid.nx)), origin=\"lower\", vmin=0.8, vmax=1.0, cmap=\"seismic\")\n",
    "    axs[0].set_title(\"dummy\")\n",
    "\n",
    "try:\n",
    "    fig1 = axs[1].imshow(np.reshape(coverageETKF,(grid.ny, grid.nx)), origin=\"lower\", vmin=0.8, vmax=1.0, cmap=\"seismic\")\n",
    "    axs[1].set_title(\"ETKF\")\n",
    "except:\n",
    "    fig1 = axs[1].imshow(np.ones((grid.ny, grid.nx)), origin=\"lower\", vmin=0.8, vmax=1.0, cmap=\"seismic\")\n",
    "    axs[1].set_title(\"dummy\")\n",
    "\n",
    "try:\n",
    "    fig2 = axs[2].imshow(np.reshape(coverageSLETKF,(grid.ny, grid.nx)), origin=\"lower\", vmin=0.8, vmax=1.0, cmap=\"seismic\")\n",
    "    axs[2].set_title(\"LETKF\")\n",
    "except:\n",
    "    fig2 = axs[2].imshow(np.ones((grid.ny, grid.nx)), origin=\"lower\", vmin=0.8, vmax=1.0, cmap=\"seismic\")\n",
    "    axs[2].set_title(\"dummy\")\n",
    "\n",
    "try:\n",
    "    fig3 = axs[3].imshow(np.reshape(coverageIEWPF,(grid.ny, grid.nx)), origin=\"lower\", vmin=0.8, vmax=1.0, cmap=\"seismic\")\n",
    "    axs[3].set_title(\"IEWPF\")\n",
    "except:\n",
    "    print(\"No IEWPF\")\n",
    "\n",
    "cbar = axs[0].cax.colorbar(fig3)\n",
    "\n",
    "plt.show()"
   ]
  },
  {
   "cell_type": "code",
   "execution_count": 13,
   "metadata": {},
   "outputs": [
    {
     "data": {
      "text/plain": [
       "0.8923973333333339"
      ]
     },
     "execution_count": 13,
     "metadata": {},
     "output_type": "execute_result"
    }
   ],
   "source": [
    "np.average(coverageIEWPF)"
   ]
  },
  {
   "cell_type": "code",
   "execution_count": null,
   "metadata": {},
   "outputs": [],
   "source": []
  }
 ],
 "metadata": {
  "interpreter": {
   "hash": "f76bea9b00210d8b9373d3ead85203e5abc5c792bcd5058fe1476c8822b21ae7"
  },
  "kernelspec": {
   "display_name": "Python 3.8  ('opendrift': conda)",
   "name": "python3"
  },
  "language_info": {
   "codemirror_mode": {
    "name": "ipython",
    "version": 3
   },
   "file_extension": ".py",
   "mimetype": "text/x-python",
   "name": "python",
   "nbconvert_exporter": "python",
   "pygments_lexer": "ipython3",
   "version": "3.8.12"
  },
  "orig_nbformat": 4
 },
 "nbformat": 4,
 "nbformat_minor": 2
}
